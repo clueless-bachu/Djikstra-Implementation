{
 "cells": [
  {
   "cell_type": "code",
   "execution_count": 10,
   "metadata": {},
   "outputs": [
    {
     "name": "stdout",
     "output_type": "stream",
     "text": [
      "Wall time: 1.87 s\n"
     ]
    }
   ],
   "source": [
    "%%time\n",
    "\n",
    "import heapq as hq\n",
    "import numpy as np\n",
    "import cv2\n",
    "\n",
    "actions_cost = {'up':[-1,0,1], 'down':[1,0,1], 'left':[-1,0,1], 'right':[0,1,1],\\\n",
    " 'up-left':[-1,-1,2**0.5],'up-right':[-1,1,2**0.5],'down-left':[1,-1,2**0.5],'down-right':[1,1,2**0.5]}\n",
    "\n",
    "def get_children(state, mat, size=(200,300)):\n",
    "\tnew_states = {}\n",
    "\tfor i in actions_cost.values():\n",
    "\t\tdx, dy, cost = i\n",
    "\t\tif 0<=state[0]+dx<size[0] and 0<=state[1]+dy<size[1] and mat[state[0]+dx][state[1]+dy]!=1 :\n",
    "\t\t\tnew_states[(state[0]+dx,state[1]+dy)]= cost\n",
    "\treturn new_states\n",
    "\n",
    "\n",
    "def dijkstra(mat, start, goal):\n",
    "\n",
    "\tcost = np.full(mat.shape, np.inf)\n",
    "\tbacktrack = {}\n",
    "\tvisited = np.zeros(mat.shape, dtype=bool)\n",
    "\tnodes = [(0,start)]\n",
    "\tcost[start]=0\n",
    "\twhile len(nodes):\n",
    "\t\tmin_cost, cord = hq.heappop(nodes)\n",
    "# \t\tif cord == goal:\n",
    "# \t\t\tbreak\n",
    "\t\tif visited[cord]:\n",
    "\t\t\tcontinue\n",
    "\n",
    "\t\tvisited[cord] = True\n",
    "\t\tchildren = get_children(cord, mat, size= mat.shape)\n",
    "\t\tfor child_cords, child_cost in children.items():\n",
    "\t\t\tif not visited[child_cords]:\n",
    "\t\t\t\tif cost[child_cords]>= child_cost+min_cost:\n",
    "\t\t\t\t\tcost[child_cords] = child_cost+min_cost\n",
    "\t\t\t\t\tbacktrack[child_cords] = cord\n",
    "\t\t\t\thq.heappush(nodes,(cost[child_cords],child_cords))\n",
    "\n",
    "\treturn cost, backtrack\n",
    "\n",
    "def create_map(scale = 1):\n",
    "    img = np.ones((200,300))\n",
    "    concave = \\\n",
    "    np.array([[20,200-120],[50,200-150],[75,200-120],[100,200-150],[75,200-185],[25,200-185]],dtype=int)\n",
    "    img = cv2.fillPoly(img, [concave], 0)\n",
    "    diamond = np.array([[300-75,200-10],[300-75+25,200-10-15],[300-75,200-10-30],[300-75-25,200-10-15]])\n",
    "    img = cv2.fillPoly(img, [diamond], 0)\n",
    "    \n",
    "    img = cv2.circle(img, (300-75,50), 25, 0, -1)\n",
    "    img = cv2.ellipse(img, (150,100), (40,20), \n",
    "           0, 0, 360, 0, -1)\n",
    "    x,y = 95,30\n",
    "    p,q = 75,10\n",
    "    a = 30*3.14/180\n",
    "    rect = np.array([[x,200-y],[x+q*np.sin(a),200-(y+q*np.cos(a))],\\\n",
    "                     [x-p*np.cos(a)+q*np.sin(a),200-(y+p*np.sin(a)+q*np.cos(a))],\\\n",
    "                     [x-p*np.cos(a),200-(y+p*np.sin(a))]],dtype=int)\n",
    "    img = cv2.fillPoly(img, [rect], 0)\n",
    "#     cv2.imshow('mat',img)\n",
    "\n",
    "    return 1*(img==0), img\n",
    "\n",
    "mat, img = create_map()\n",
    "start = (100,100)\n",
    "goal = (199,299)\n",
    "cost, backtrack = dijkstra(mat, start, goal)\n",
    "# print(cost)\n",
    "cord = goal\n",
    "\n",
    "while 1:\n",
    "    try:\n",
    "        cord = backtrack[cord]\n",
    "        img[cord]= 0\n",
    "#         print(cord)\n",
    "    except Exception as e:\n",
    "        break\n",
    "# cv2.imshow('img',img)\n",
    "# while 1:\n",
    "#     if cv2.waitKey(33) == ord('a'):\n",
    "#         break\n",
    "# cv2.destroyAllWindows()"
   ]
  },
  {
   "cell_type": "code",
   "execution_count": 11,
   "metadata": {},
   "outputs": [],
   "source": [
    "cv2.imshow('img',img)\n",
    "while 1:\n",
    "    if cv2.waitKey(33) == ord('a'):\n",
    "        break\n",
    "cv2.destroyAllWindows()"
   ]
  },
  {
   "cell_type": "code",
   "execution_count": null,
   "metadata": {},
   "outputs": [],
   "source": []
  }
 ],
 "metadata": {
  "kernelspec": {
   "display_name": "Python 3",
   "language": "python",
   "name": "python3"
  },
  "language_info": {
   "codemirror_mode": {
    "name": "ipython",
    "version": 3
   },
   "file_extension": ".py",
   "mimetype": "text/x-python",
   "name": "python",
   "nbconvert_exporter": "python",
   "pygments_lexer": "ipython3",
   "version": "3.7.4"
  }
 },
 "nbformat": 4,
 "nbformat_minor": 2
}
