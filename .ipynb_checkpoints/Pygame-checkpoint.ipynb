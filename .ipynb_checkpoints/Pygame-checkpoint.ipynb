{
 "cells": [
  {
   "cell_type": "code",
   "execution_count": 8,
   "metadata": {},
   "outputs": [],
   "source": [
    "import pygame\n",
    "import numpy as np\n",
    "import cv2"
   ]
  },
  {
   "cell_type": "code",
   "execution_count": 9,
   "metadata": {},
   "outputs": [],
   "source": [
    "class grid():\n",
    "    def __init__(self,mat,disp, size, pixel_dist=1,edge_dist=10):\n",
    "        self.map = mat\n",
    "        self.display = disp\n",
    "        self.size = size\n",
    "        self.pixel_dist = pixel_dist\n",
    "        self.rec_width = (size[0]-2*edge_dist-2*pixel_dist)/mat.shape[0]\n",
    "        self.rec_height = (size[1]-2*edge_dist-2*pixel_dist)/mat.shape[1]\n",
    "        self.obs = []\n",
    "        self.edge_dist = edge_dist\n",
    "        self.draw_init_grid()\n",
    "\n",
    "    def draw_init_grid(self):\n",
    "        \n",
    "        for i in range(self.map.shape[1]):\n",
    "            for j in range(self.map.shape[0]):\n",
    "                t = self.edge_dist +j*self.rec_width\n",
    "                l = self.edge_dist+ i*self.rec_height\n",
    "                if self.map[j][i]:\n",
    "                    color= (0,0,0)\n",
    "#                     self.obs.append((j,i))\n",
    "                else:\n",
    "                    color=(255,255,255)\n",
    "                rec=pygame.Rect(t,l,\\\n",
    "                    self.rec_width-self.pixel_dist, self.rec_height-self.pixel_dist)\n",
    "                pygame.draw.rect(self.display,color,rec)\n",
    "    \n",
    "    def get_map_cordinate(self,cords):\n",
    "        x = cords[0]\n",
    "        y = cords[1]\n",
    "        x = (x-10)*self.map.shape[0]/(self.size[0]-2*self.edge_dist)\n",
    "        y = (y-10)*self.map.shape[1]/(self.size[1]-2*self.edge_dist)\n",
    "        return int(y), int(x)\n",
    "    \n",
    "    def draw_obs(self,cords, color= (10,10,10)):\n",
    "        self.map[cords[1],cords[0]]=1\n",
    "        rec = pygame.Rect(self.edge_dist+cords[1]*self.rec_width,\\\n",
    "                         self.edge_dist+cords[0]*self.rec_height,\\\n",
    "                         self.rec_width-self.pixel_dist, self.rec_height-self.pixel_dist)\n",
    "        pygame.draw.rect(self.display,color,rec)\n",
    "    \n",
    "    def get_map(self):\n",
    "        return np.array(self.map, dtype=int)\n",
    "\n",
    "def create_map(scale = 1):\n",
    "    img = np.ones((200,300))\n",
    "    concave = \\\n",
    "    np.array([[20,200-120],[50,200-150],[75,200-120],[100,200-150],[75,200-185],[25,200-185]],dtype=int)\n",
    "    img = cv2.fillPoly(img, [concave], 0)\n",
    "    diamond = np.array([[300-75,200-10],[300-75+25,200-10-15],[300-75,200-10-30],[300-75-25,200-10-15]])\n",
    "    img = cv2.fillPoly(img, [diamond], 0)\n",
    "    \n",
    "    img = cv2.circle(img, (300-75,50), 25, 0, -1)\n",
    "    img = cv2.ellipse(img, (150,100), (40,20), \n",
    "           0, 0, 360, 0, -1)\n",
    "    x,y = 95,30\n",
    "    p,q = 75,10\n",
    "    a = 30*3.14/180\n",
    "    rect = np.array([[x,200-y],[x+q*np.sin(a),200-(y+q*np.cos(a))],\\\n",
    "                     [x-p*np.cos(a)+q*np.sin(a),200-(y+p*np.sin(a)+q*np.cos(a))],\\\n",
    "                     [x-p*np.cos(a),200-(y+p*np.sin(a))]],dtype=int)\n",
    "    img = cv2.fillPoly(img, [rect], 0)\n",
    "#     cv2.imshow('mat',img)\n",
    "\n",
    "    return 1*(img==0)"
   ]
  },
  {
   "cell_type": "code",
   "execution_count": 17,
   "metadata": {},
   "outputs": [
    {
     "name": "stdout",
     "output_type": "stream",
     "text": [
      "(300, 200)\n"
     ]
    },
    {
     "data": {
      "text/plain": [
       "array([[0, 0, 0, ..., 0, 0, 0],\n",
       "       [0, 0, 0, ..., 0, 0, 0],\n",
       "       [0, 0, 0, ..., 0, 0, 0],\n",
       "       ...,\n",
       "       [0, 0, 0, ..., 0, 0, 0],\n",
       "       [0, 0, 0, ..., 0, 0, 0],\n",
       "       [0, 0, 0, ..., 0, 0, 0]])"
      ]
     },
     "execution_count": 17,
     "metadata": {},
     "output_type": "execute_result"
    }
   ],
   "source": [
    "mat = create_map().T\n",
    "print(mat.shape)\n",
    "pygame.init()\n",
    "size= (900,600)\n",
    "gameDisplay = pygame.display.set_mode(size)\n",
    "pygame.display.set_caption('Dijsktra')\n",
    "robot_map = grid(mat,gameDisplay, size,pixel_dist=1, edge_dist=5)\n",
    "clock = pygame.time.Clock()\n",
    "\n",
    "crashed = False\n",
    "\n",
    "while not crashed:\n",
    "\n",
    "    for event in pygame.event.get():\n",
    "        \n",
    "        mousex, mousey = pygame.mouse.get_pos()\n",
    "        click = pygame.mouse.get_pressed()\n",
    "        if click==(1,0,0):\n",
    "            cords = (mousex, mousey)\n",
    "            cords = robot_map.get_map_cordinate(cords)\n",
    "            robot_map.draw_obs(cords)\n",
    "        elif click == (0,0,1):\n",
    "            mat = robot_map.get_map()\n",
    "            crashed = True\n",
    "        \n",
    "    if event.type == pygame.QUIT:\n",
    "        crashed = True\n",
    "\n",
    "\n",
    "\n",
    "    pygame.display.update()\n",
    "    clock.tick(60)\n",
    "\n",
    "pygame.quit()\n",
    "mat"
   ]
  },
  {
   "cell_type": "code",
   "execution_count": 1,
   "metadata": {},
   "outputs": [],
   "source": [
    "import heapq"
   ]
  },
  {
   "cell_type": "code",
   "execution_count": 3,
   "metadata": {},
   "outputs": [
    {
     "data": {
      "text/plain": [
       "[(1, (2, 1)), (2, (1, 2)), (1, (2, 2))]"
      ]
     },
     "execution_count": 3,
     "metadata": {},
     "output_type": "execute_result"
    }
   ],
   "source": [
    "a = [(2,(1,2)), (1,(2,1)), (1,(2,2))]\n",
    "heapq.heapify(a)\n",
    "a"
   ]
  },
  {
   "cell_type": "code",
   "execution_count": 10,
   "metadata": {},
   "outputs": [
    {
     "data": {
      "text/plain": [
       "[[(0, 0), 4], [(2, 3), 3]]"
      ]
     },
     "execution_count": 10,
     "metadata": {},
     "output_type": "execute_result"
    }
   ],
   "source": [
    "a"
   ]
  },
  {
   "cell_type": "code",
   "execution_count": null,
   "metadata": {},
   "outputs": [],
   "source": []
  }
 ],
 "metadata": {
  "kernelspec": {
   "display_name": "Python 3",
   "language": "python",
   "name": "python3"
  },
  "language_info": {
   "codemirror_mode": {
    "name": "ipython",
    "version": 3
   },
   "file_extension": ".py",
   "mimetype": "text/x-python",
   "name": "python",
   "nbconvert_exporter": "python",
   "pygments_lexer": "ipython3",
   "version": "3.7.4"
  }
 },
 "nbformat": 4,
 "nbformat_minor": 2
}
